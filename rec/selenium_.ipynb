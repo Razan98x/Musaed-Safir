{
 "cells": [
  {
   "cell_type": "code",
   "execution_count": 7,
   "id": "2b3c4a10",
   "metadata": {},
   "outputs": [],
   "source": [
    "from selenium.webdriver.common.by import By\n",
    "from selenium import webdriver\n",
    "import time\n",
    "\n",
    "driver=webdriver.Chrome()\n",
    "\n",
    "time.sleep(10)\n",
    "\n",
    "driver.get(\"https://www.topuniversities.com/university-rankings/university-subject-rankings/2023/engineering-technology\")\n",
    "\n",
    "time.sleep(5)"
   ]
  },
  {
   "cell_type": "code",
   "execution_count": 2,
   "id": "5ed981d0",
   "metadata": {},
   "outputs": [],
   "source": [
    "# for i in range(19,266,17):\n",
    "#     try:\n",
    "#         c = driver.find_element(By.XPATH,f'//*[@id=\"ranking-data-load\"]/div[{i}]/div[2]/button')\n",
    "#         c.click()\n",
    "\n",
    "    \n",
    "#     except:\n",
    "       \n",
    "#         b = driver.find_element(By.XPATH,'btn btn-primary loadmorebutton loadmorebutton_css mt-2')\n",
    "#         b.click()\n",
    "\n",
    "#         print('خطا ')\n",
    "#     time.sleep(4)\n",
    "#     print(i)\n",
    "       \n",
    "        \n",
    "\n",
    "\n"
   ]
  },
  {
   "cell_type": "code",
   "execution_count": 3,
   "id": "b2564d31",
   "metadata": {},
   "outputs": [],
   "source": [
    "# cs = []\n",
    "# loc = []\n",
    "\n",
    "# for i in range(2,204):\n",
    "\n",
    "#     uni = driver.find_element(By.XPATH,f'//*[@id=\"ranking-data-load\"]/div[{i}]/div/div/div/div[2]/div/div/div[1]').text \n",
    "#     loco = driver.find_element(By.XPATH,f'//*[@id=\"ranking-data-load\"]/div[{i}]/div/div/div/div[2]/div/div/div[2]').text\n",
    "#     loc.append(loco)\n",
    "#     cs.append(uni)\n",
    "#     print(cs,loc)\n"
   ]
  },
  {
   "cell_type": "code",
   "execution_count": 8,
   "id": "469084b0",
   "metadata": {},
   "outputs": [
    {
     "name": "stdout",
     "output_type": "stream",
     "text": [
      "Massachusetts Institute of Technology (MIT)\n"
     ]
    }
   ],
   "source": [
    "uni = driver.find_element(By.XPATH,'//*[@id=\"ranking-data-load\"]/div[2]/div/div/div/div[2]/div/div/div[1]').text \n",
    "print(uni)"
   ]
  },
  {
   "cell_type": "code",
   "execution_count": 9,
   "id": "e20206c0",
   "metadata": {},
   "outputs": [
    {
     "name": "stdout",
     "output_type": "stream",
     "text": [
      "Stanford, United States\n"
     ]
    }
   ],
   "source": [
    " loco = driver.find_element(By.XPATH,'//*[@id=\"ranking-data-load\"]/div[3]/div/div/div/div[2]/div/div/div[2]').text\n",
    "print(loco)"
   ]
  },
  {
   "cell_type": "code",
   "execution_count": 11,
   "id": "fc37d81f",
   "metadata": {},
   "outputs": [],
   "source": [
    "# loc = []\n",
    "\n",
    "# for i in range(2,204):\n",
    "#     try:\n",
    "#         loco = driver.find_element(By.XPATH,f'//*[@id=\"ranking-data-load\"]/div[{i}]/div/div/div/div[2]/div/div/div[2]').text\n",
    "#         loc.append(loco)\n",
    "#         print(*loc)\n",
    "#         time.sleep(0.5)\n",
    "#     except:\n",
    "#         z = driver.find_element(By.XPATH,f'//*[@id=\"ranking-data-load\"]/div[{i+1}]/div/div/div/div[2]/div/div/div[2]').text\n",
    "#         loc.append(z)\n",
    "#         print(*loc)\n",
    "#         time.sleep(0.5)\n"
   ]
  },
  {
   "cell_type": "code",
   "execution_count": null,
   "id": "7afaa7af",
   "metadata": {},
   "outputs": [],
   "source": [
    "# cs = []\n",
    "# for i in range(2,204):\n",
    "#     try:\n",
    "#         uni = driver.find_element(By.XPATH,f'//*[@id=\"ranking-data-load\"]/div[{i}]/div/div/div/div[2]/div/div/div[1]/a').text\n",
    "#         cs.append(uni)\n",
    "#         print(uni)\n",
    "#         time.sleep(0.5)\n",
    "#     except:\n",
    "#         k = driver.find_element(By.XPATH,f'//*[@id=\"ranking-data-load\"]/div[{i+1}]/div/div/div/div[2]/div/div/div[1]/a').text\n",
    "#         cs.append(k)\n",
    "#         print(uni)\n",
    "#         time.sleep(0.5)"
   ]
  },
  {
   "cell_type": "code",
   "execution_count": null,
   "id": "a2858420",
   "metadata": {},
   "outputs": [],
   "source": [
    "import pandas as pd"
   ]
  },
  {
   "cell_type": "code",
   "execution_count": 12,
   "id": "67ba81bb",
   "metadata": {},
   "outputs": [],
   "source": [
    "# mydata=pd.DataFrame({'University':cs,'Country':loc })\n"
   ]
  },
  {
   "cell_type": "code",
   "execution_count": 17,
   "id": "8458e23c",
   "metadata": {},
   "outputs": [],
   "source": [
    "# mydata\n"
   ]
  },
  {
   "cell_type": "code",
   "execution_count": 16,
   "id": "50c70557",
   "metadata": {},
   "outputs": [],
   "source": [
    "# mydata.to_csv('uniList')"
   ]
  },
  {
   "cell_type": "code",
   "execution_count": 15,
   "id": "3f32c47c",
   "metadata": {},
   "outputs": [],
   "source": [
    "# pd.read_csv('uniList')"
   ]
  },
  {
   "cell_type": "code",
   "execution_count": null,
   "id": "e7dc4a6a",
   "metadata": {},
   "outputs": [],
   "source": []
  },
  {
   "cell_type": "code",
   "execution_count": null,
   "id": "d5ccf225",
   "metadata": {},
   "outputs": [],
   "source": []
  },
  {
   "cell_type": "code",
   "execution_count": null,
   "id": "6b9e97b9",
   "metadata": {},
   "outputs": [],
   "source": []
  },
  {
   "cell_type": "code",
   "execution_count": null,
   "id": "f0fceaab",
   "metadata": {},
   "outputs": [],
   "source": []
  },
  {
   "cell_type": "code",
   "execution_count": null,
   "id": "0eda7dbd",
   "metadata": {},
   "outputs": [],
   "source": []
  },
  {
   "cell_type": "code",
   "execution_count": null,
   "id": "8e530487",
   "metadata": {},
   "outputs": [],
   "source": []
  },
  {
   "cell_type": "code",
   "execution_count": null,
   "id": "57e1a6f5",
   "metadata": {},
   "outputs": [],
   "source": []
  },
  {
   "cell_type": "code",
   "execution_count": null,
   "id": "7dd35e21",
   "metadata": {},
   "outputs": [],
   "source": []
  }
 ],
 "metadata": {
  "kernelspec": {
   "display_name": "Python 3 (ipykernel)",
   "language": "python",
   "name": "python3"
  },
  "language_info": {
   "codemirror_mode": {
    "name": "ipython",
    "version": 3
   },
   "file_extension": ".py",
   "mimetype": "text/x-python",
   "name": "python",
   "nbconvert_exporter": "python",
   "pygments_lexer": "ipython3",
   "version": "3.9.16"
  }
 },
 "nbformat": 4,
 "nbformat_minor": 5
}
